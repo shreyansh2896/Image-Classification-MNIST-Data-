{
 "cells": [
  {
   "cell_type": "code",
   "execution_count": 46,
   "metadata": {},
   "outputs": [],
   "source": [
    "import numpy as np \n",
    "import tensorflow as tf \n",
    "import matplotlib.pyplot as plt "
   ]
  },
  {
   "cell_type": "code",
   "execution_count": 47,
   "metadata": {},
   "outputs": [
    {
     "name": "stdout",
     "output_type": "stream",
     "text": [
      "Extracting /MNIST_data\\train-images-idx3-ubyte.gz\n",
      "Extracting /MNIST_data\\train-labels-idx1-ubyte.gz\n",
      "Extracting /MNIST_data\\t10k-images-idx3-ubyte.gz\n",
      "Extracting /MNIST_data\\t10k-labels-idx1-ubyte.gz\n"
     ]
    }
   ],
   "source": [
    "from tensorflow.examples.tutorials.mnist import input_data\n",
    "mnist=input_data.read_data_sets(\"/MNIST_data\")"
   ]
  },
  {
   "cell_type": "code",
   "execution_count": 48,
   "metadata": {},
   "outputs": [],
   "source": [
    "# To plot an image on the screen we will be using the helper function \n",
    "def display_function(digit):\n",
    "    plt.imshow(digit.reshape(28,28),cmap=\"Greys\",interpolation='nearest')"
   ]
  },
  {
   "cell_type": "code",
   "execution_count": 49,
   "metadata": {},
   "outputs": [],
   "source": [
    "training_digits,trainig_labels=mnist.train.next_batch(1000)\n",
    "test_digits,test_labels=mnist.test.next_batch(200)"
   ]
  },
  {
   "cell_type": "code",
   "execution_count": 50,
   "metadata": {},
   "outputs": [
    {
     "data": {
      "image/png": "[encoded data removed]",
      "text/plain": [
       "<Figure size 432x288 with 1 Axes>"
      ]
     },
     "metadata": {
      "needs_background": "light"
     },
     "output_type": "display_data"
    }
   ],
   "source": [
    "display_function(training_digits[2])"
   ]
  },
  {
   "cell_type": "code",
   "execution_count": 51,
   "metadata": {},
   "outputs": [],
   "source": [
    "# We will specify some variables to define our convolution layer \n",
    "height=28\n",
    "width=28\n",
    "channels=1\n",
    "n_inputs=height*width"
   ]
  },
  {
   "cell_type": "code",
   "execution_count": 52,
   "metadata": {},
   "outputs": [],
   "source": [
    "#designing our first convolution layer \n",
    "conv1_feature_maps=32\n",
    "conv1_kernel_size=3\n",
    "conv1_stride=1\n",
    "conv1_pad='SAME'\n",
    "\n"
   ]
  },
  {
   "cell_type": "code",
   "execution_count": 53,
   "metadata": {},
   "outputs": [],
   "source": [
    "#designing  second convolution layer \n",
    "conv2_feature_maps=64\n",
    "conv2_kernel_size=3\n",
    "conv2_stride=2\n",
    "conv2_pad=\"SAME\"   # input to be zero padded "
   ]
  },
  {
   "cell_type": "code",
   "execution_count": 54,
   "metadata": {},
   "outputs": [],
   "source": [
    "## Pooling layer will be having same number of feature maps as last convolution layer \n",
    "pool3_feature_maps=conv2_feature_maps"
   ]
  },
  {
   "cell_type": "code",
   "execution_count": 55,
   "metadata": {},
   "outputs": [],
   "source": [
    "# After this the output from above will finally goes to your fully connected layer \n",
    "n_fullyconn1=64\n",
    "n_outputs=10   # as we wanted to classify the output category from digits 0 to 9 (means 10 outputs possible)"
   ]
  },
  {
   "cell_type": "code",
   "execution_count": 56,
   "metadata": {},
   "outputs": [],
   "source": [
    "tf.reset_default_graph()"
   ]
  },
  {
   "cell_type": "code",
   "execution_count": 57,
   "metadata": {},
   "outputs": [],
   "source": [
    "x=tf.placeholder(tf.float32,shape=[None,n_inputs],name=\"X\")"
   ]
  },
  {
   "cell_type": "code",
   "execution_count": 58,
   "metadata": {},
   "outputs": [],
   "source": [
    "# For CNN, we want the data in the form of 2D\n",
    "x_reshaped=tf.reshape(x,shape=[-1,height,width,channels])"
   ]
  },
  {
   "cell_type": "code",
   "execution_count": 59,
   "metadata": {},
   "outputs": [],
   "source": [
    "y=tf.placeholder(tf.int32,shape=[None],name=\"y\")   # This will be a 1D array"
   ]
  },
  {
   "cell_type": "code",
   "execution_count": 60,
   "metadata": {},
   "outputs": [],
   "source": [
    "# Creating the convolution layer \n",
    "conv1=tf.layers.conv2d(x_reshaped,filters=conv1_feature_maps,\n",
    "                      kernel_size=conv1_kernel_size,\n",
    "                      strides=conv1_stride,padding=conv1_pad,\n",
    "                      activation=tf.nn.relu,name=\"conv1\")    \n"
   ]
  },
  {
   "cell_type": "code",
   "execution_count": 61,
   "metadata": {},
   "outputs": [],
   "source": [
    "conv2=tf.layers.conv2d(conv1,filters=conv2_feature_maps,\n",
    "                      kernel_size=conv2_kernel_size,\n",
    "                      strides=conv2_stride,padding=conv2_pad,\n",
    "                      activation=tf.nn.relu,name=\"conv2\") "
   ]
  },
  {
   "cell_type": "code",
   "execution_count": 62,
   "metadata": {},
   "outputs": [
    {
     "data": {
      "text/plain": [
       "TensorShape([Dimension(None), Dimension(14), Dimension(14), Dimension(64)])"
      ]
     },
     "execution_count": 62,
     "metadata": {},
     "output_type": "execute_result"
    }
   ],
   "source": [
    "conv2.shape"
   ]
  },
  {
   "cell_type": "code",
   "execution_count": 63,
   "metadata": {},
   "outputs": [],
   "source": [
    "pool3=tf.nn.max_pool(conv2,ksize=[1,2,2,1],strides=[1,2,2,1],padding=\"VALID\")"
   ]
  },
  {
   "cell_type": "code",
   "execution_count": 64,
   "metadata": {},
   "outputs": [
    {
     "data": {
      "text/plain": [
       "TensorShape([Dimension(None), Dimension(7), Dimension(7), Dimension(64)])"
      ]
     },
     "execution_count": 64,
     "metadata": {},
     "output_type": "execute_result"
    }
   ],
   "source": [
    "pool3.shape"
   ]
  },
  {
   "cell_type": "code",
   "execution_count": 65,
   "metadata": {},
   "outputs": [],
   "source": [
    "# In order to feed this into fully connected layer, we need to flatten the result of pooling layer \n",
    "pool3_flat=tf.reshape(pool3,shape=[-1,7*7*pool3_feature_maps])"
   ]
  },
  {
   "cell_type": "code",
   "execution_count": 66,
   "metadata": {},
   "outputs": [],
   "source": [
    "# For fully connected layers \n",
    "fullyconn1=tf.layers.dense(pool3_flat,n_fullyconn1,activation=tf.nn.relu,name=\"fc1\")"
   ]
  },
  {
   "cell_type": "code",
   "execution_count": 67,
   "metadata": {},
   "outputs": [],
   "source": [
    "# For softmax layer we need to setup a dense layer \n",
    "logits=tf.layers.dense(fullyconn1,n_outputs,name=\"Output\")"
   ]
  },
  {
   "cell_type": "code",
   "execution_count": 68,
   "metadata": {},
   "outputs": [],
   "source": [
    "# Cost function for above layer will be \n",
    "xentropy=tf.nn.sparse_softmax_cross_entropy_with_logits(logits=logits,labels=y)\n",
    "\n",
    "# It will takes the dense layer and apply the softmax activation to every neuron in that layer and also uses cross entropy as cost function  "
   ]
  },
  {
   "cell_type": "code",
   "execution_count": 69,
   "metadata": {},
   "outputs": [],
   "source": [
    "loss=tf.reduce_mean(xentropy)\n",
    "optimizer=tf.train.AdamOptimizer()\n",
    "training_op=optimizer.minimize(loss)"
   ]
  },
  {
   "cell_type": "code",
   "execution_count": 70,
   "metadata": {},
   "outputs": [],
   "source": [
    "correct=tf.nn.in_top_k(logits,y,1)   # Checking the act and predicted value (For higher probability)\n",
    "\n",
    "accuracy=tf.reduce_mean(tf.cast(correct,tf.float32))"
   ]
  },
  {
   "cell_type": "code",
   "execution_count": 71,
   "metadata": {},
   "outputs": [],
   "source": [
    "init=tf.global_variables_initializer()  \n",
    "saver=tf.train.Saver()                        #Allow us to save our trained model "
   ]
  },
  {
   "cell_type": "code",
   "execution_count": null,
   "metadata": {},
   "outputs": [
    {
     "name": "stdout",
     "output_type": "stream",
     "text": [
      "0 Train Accuracy: 0.98 Test Accuracy: 0.9769\n"
     ]
    }
   ],
   "source": [
    "n_epochs=5\n",
    "batch_size=100\n",
    "\n",
    "with tf.Session() as sess:\n",
    "    sess.run(init)\n",
    "    \n",
    "    for epoch in range(n_epochs):\n",
    "        for iteration in range(mnist.train.num_examples//batch_size):\n",
    "            \n",
    "            x_batch,y_batch=mnist.train.next_batch(batch_size)\n",
    "            sess.run(training_op,feed_dict={x:x_batch,y:y_batch})\n",
    "        \n",
    "        acc_train=accuracy.eval(feed_dict={x:x_batch,y:y_batch})\n",
    "        \n",
    "        acc_test=accuracy.eval(feed_dict={x:mnist.test.images,y:mnist.test.labels})\n",
    "        \n",
    "        \n",
    "        print(epoch,\"Train Accuracy:\",acc_train,\"Test Accuracy:\",acc_test)\n",
    "        \n",
    "        save_path=saver.save(sess,\"./my_minst_model\")\n",
    "        \n",
    "            \n",
    "            "
   ]
  },
  {
   "cell_type": "code",
   "execution_count": null,
   "metadata": {},
   "outputs": [],
   "source": []
  }
 ],
 "metadata": {
  "kernelspec": {
   "display_name": "Python 3",
   "language": "python",
   "name": "python3"
  },
  "language_info": {
   "codemirror_mode": {
    "name": "ipython",
    "version": 3
   },
   "file_extension": ".py",
   "mimetype": "text/x-python",
   "name": "python",
   "nbconvert_exporter": "python",
   "pygments_lexer": "ipython3",
   "version": "3.6.10"
  }
 },
 "nbformat": 4,
 "nbformat_minor": 2
}
